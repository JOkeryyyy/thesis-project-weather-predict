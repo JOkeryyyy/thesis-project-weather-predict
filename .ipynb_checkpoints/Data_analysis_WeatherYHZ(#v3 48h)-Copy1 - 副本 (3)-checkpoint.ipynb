{
 "cells": [
  {
   "cell_type": "code",
   "execution_count": 1,
   "id": "9a3f0126",
   "metadata": {},
   "outputs": [],
   "source": [
    "# We analyze the contents of the data to get some inspiration for the forecasting program"
   ]
  },
  {
   "cell_type": "code",
   "execution_count": 4,
   "id": "6e4bff60",
   "metadata": {},
   "outputs": [
    {
     "ename": "ModuleNotFoundError",
     "evalue": "No module named 'tensorflow'",
     "output_type": "error",
     "traceback": [
      "\u001b[1;31m---------------------------------------------------------------------------\u001b[0m",
      "\u001b[1;31mModuleNotFoundError\u001b[0m                       Traceback (most recent call last)",
      "Input \u001b[1;32mIn [4]\u001b[0m, in \u001b[0;36m<cell line: 11>\u001b[1;34m()\u001b[0m\n\u001b[0;32m      5\u001b[0m \u001b[38;5;28;01mimport\u001b[39;00m \u001b[38;5;21;01mmatplotlib\u001b[39;00m\u001b[38;5;21;01m.\u001b[39;00m\u001b[38;5;21;01mpyplot\u001b[39;00m \u001b[38;5;28;01mas\u001b[39;00m \u001b[38;5;21;01mplt\u001b[39;00m \n\u001b[0;32m      6\u001b[0m \u001b[38;5;66;03m# from windrose import WindroseAxes\u001b[39;00m\n\u001b[0;32m      7\u001b[0m \n\u001b[0;32m      8\u001b[0m \u001b[38;5;66;03m# from keras.models import Sequential, Model, load_model\u001b[39;00m\n\u001b[0;32m      9\u001b[0m \u001b[38;5;66;03m# from keras.layers import Dense, Dropout, GaussianNoise, Input, BatchNormalization, ELU\u001b[39;00m\n\u001b[0;32m     10\u001b[0m \u001b[38;5;66;03m# from keras.callbacks import EarlyStopping\u001b[39;00m\n\u001b[1;32m---> 11\u001b[0m \u001b[38;5;28;01mfrom\u001b[39;00m \u001b[38;5;21;01mtensorflow\u001b[39;00m\u001b[38;5;21;01m.\u001b[39;00m\u001b[38;5;21;01mkeras\u001b[39;00m\u001b[38;5;21;01m.\u001b[39;00m\u001b[38;5;21;01moptimizers\u001b[39;00m \u001b[38;5;28;01mimport\u001b[39;00m Adam\n\u001b[0;32m     12\u001b[0m \u001b[38;5;28;01mfrom\u001b[39;00m \u001b[38;5;21;01msklearn\u001b[39;00m\u001b[38;5;21;01m.\u001b[39;00m\u001b[38;5;21;01mmetrics\u001b[39;00m \u001b[38;5;28;01mimport\u001b[39;00m r2_score\n\u001b[0;32m     13\u001b[0m \u001b[38;5;28;01mfrom\u001b[39;00m \u001b[38;5;21;01msklearn\u001b[39;00m\u001b[38;5;21;01m.\u001b[39;00m\u001b[38;5;21;01mpreprocessing\u001b[39;00m \u001b[38;5;28;01mimport\u001b[39;00m StandardScaler\n",
      "\u001b[1;31mModuleNotFoundError\u001b[0m: No module named 'tensorflow'"
     ]
    }
   ],
   "source": [
    "# Import libraries \n",
    "import pandas as pd\n",
    "import numpy as np\n",
    "import seaborn as sns\n",
    "import matplotlib.pyplot as plt \n",
    "from windrose import WindroseAxes\n",
    "\n",
    "from keras.models import Sequential, Model, load_model\n",
    "from keras.layers import Dense, Dropout, GaussianNoise, Input, BatchNormalization, ELU\n",
    "from keras.callbacks import EarlyStopping\n",
    "from tensorflow.keras.optimizers import Adam\n",
    "from sklearn.metrics import r2_score\n",
    "from sklearn.preprocessing import StandardScaler"
   ]
  },
  {
   "cell_type": "code",
   "execution_count": null,
   "id": "9106b31f",
   "metadata": {},
   "outputs": [],
   "source": [
    "#Import data\n",
    "file = './YHZ_hourly/YHZ_hourly.csv'\n",
    "\n",
    "df = pd.read_csv(\"./YHZ_Weather_1953_2022_High.csv\")\n",
    "df1 = pd.read_csv(file)\n",
    "df99 = pd.read_csv(\"./climate-daily.csv\")"
   ]
  },
  {
   "cell_type": "code",
   "execution_count": null,
   "id": "8fec0be3",
   "metadata": {},
   "outputs": [],
   "source": [
    "df99.columns"
   ]
  },
  {
   "cell_type": "code",
   "execution_count": null,
   "id": "d50b5243",
   "metadata": {},
   "outputs": [],
   "source": [
    "a = df1.columns\n",
    "a"
   ]
  },
  {
   "cell_type": "code",
   "execution_count": null,
   "id": "62144603",
   "metadata": {},
   "outputs": [],
   "source": [
    "# we create a datetime index\n",
    "df1['date'] = pd.to_datetime(df1['LOCAL_DATE'])\n",
    "df1 = df1.sort_values('date')\n",
    "df1 = df1.reset_index(drop=True)"
   ]
  },
  {
   "cell_type": "code",
   "execution_count": null,
   "id": "d93a0ccf",
   "metadata": {},
   "outputs": [],
   "source": [
    "df2 = df1 [['date', 'TEMP']]\n",
    "df2"
   ]
  },
  {
   "cell_type": "code",
   "execution_count": null,
   "id": "6a6962c2",
   "metadata": {},
   "outputs": [],
   "source": [
    "#Temperature plot\n",
    "df2['TEMP'].plot(figsize=(12,4), color='black');\n",
    "plt.legend()\n",
    "plt.grid()\n",
    "plt.show()"
   ]
  },
  {
   "cell_type": "code",
   "execution_count": null,
   "id": "6f2f7561",
   "metadata": {},
   "outputs": [],
   "source": [
    "# DF2 has only TEMP\n",
    "# More sophisticated plot\n",
    "fig, ax = plt.subplots(figsize=(30,10))\n",
    "\n",
    "ax.plot(df2['date'],df2['TEMP'],color='blue',linewidth=3.0)\n",
    "#ax.scatter(df2['date'],df2['births'],color='red',s=100.)\n",
    "plt.title(\"Temperature in Standsed-HALIFAX\", size=22)\n",
    "plt.ylabel(\"TEMP (degrees)\", size=18)\n",
    "plt.xlabel(\"Year\", size=18)\n",
    "plt.xticks(fontsize=20)\n",
    "plt.yticks(fontsize=20)\n",
    "\n",
    "#plt.savefig(\"Births per month Canada.jpg\")\n",
    "plt.show()\n"
   ]
  },
  {
   "cell_type": "code",
   "execution_count": null,
   "id": "e4f92a37",
   "metadata": {},
   "outputs": [],
   "source": [
    "# Downsample series to average temp per day\n",
    "df_day_grouped = df2.set_index('date').groupby(pd.Grouper(freq='d')).agg({'TEMP': ['mean', 'min', 'max']})\n",
    "df_day_grouped = df_day_grouped.reset_index()\n",
    "df_day_grouped.columns = df_day_grouped.columns.map(''.join)\n",
    "df_day_grouped\n"
   ]
  },
  {
   "cell_type": "code",
   "execution_count": null,
   "id": "2b4998c6",
   "metadata": {},
   "outputs": [],
   "source": [
    "# More sophisticated plot\n",
    "# Let's do it only for one year y\n",
    "y = 2021\n",
    "\n",
    "df_temps = df_day_grouped[df_day_grouped['date'].dt.year == 2021 ]\n",
    "fig, ax = plt.subplots(figsize=(30,15))\n",
    "\n",
    "ax.plot(df_temps['date'],df_temps['TEMPmean'],color='green',linewidth=3.0)\n",
    "ax.plot(df_temps['date'],df_temps['TEMPmax'],color='red',linewidth=3.0)\n",
    "ax.plot(df_temps['date'],df_temps['TEMPmin'],color='blue',linewidth=3.0)\n",
    "ax.fill_between(df_temps['date'],df_temps['TEMPmin'], df_temps['TEMPmax'], color='lightgrey')\n",
    "                                                                                 \n",
    "#ax.scatter(df2['date'],df2['births'],color='red',s=100.)\n",
    "plt.title(\"Temperature in Standsed Airport HALIFAX in \"+str(y), size=22)\n",
    "plt.ylabel(\"TEMP (degrees)\", size=18)\n",
    "plt.xlabel(\"date\", size=18)\n",
    "plt.grid(axis='both')\n",
    "plt.xticks(fontsize=20)\n",
    "plt.yticks(fontsize=20)\n",
    "\n",
    "plt.show()"
   ]
  },
  {
   "cell_type": "code",
   "execution_count": null,
   "id": "6d1e7e99",
   "metadata": {},
   "outputs": [],
   "source": [
    "ts_wind_speed = df1['WIND_SPEED']\n",
    "ts_wind_speed\n",
    "ts_wind_direction = df1['WIND_DIRECTION']\n",
    "ts_wind_direction.plot(figsize=(12,4), color='black')\n",
    "\n",
    "ts_sin = np.sin(ts_wind_direction*10)\n",
    "ts_cos = np.cos(ts_wind_direction*10)\n",
    "\n"
   ]
  },
  {
   "cell_type": "code",
   "execution_count": null,
   "id": "b5897474",
   "metadata": {},
   "outputs": [],
   "source": [
    "# fix degrees and this will work\n",
    "# Windrose to analyze wind direction\n",
    "# Windrose to see the wind direction in a better visualization\n",
    "ts_wind_speed = df1['WIND_SPEED']\n",
    "ts_wind_direction = df1['WIND_DIRECTION']\n",
    "# I believe wind direction is in degrees starting 0 to 360. Angles rounded to 10\n",
    "# where is the 0? Hyphotesis E = 0 and works anticlockwise\n",
    "\n",
    "vientospeed     = ts_wind_speed\n",
    "vientodirection = ts_wind_direction*10\n",
    "title = 'WindRose '\n",
    "\n",
    "plt.rc('legend', fontsize=10)\n",
    "\n",
    "f = plt.figure(figsize=(12,6))\n",
    "\n",
    "ax = WindroseAxes.from_ax(fig=f)\n",
    "ax.bar(vientodirection, vientospeed, normed=True, opening=0.8, edgecolor='white')\n",
    "ax.set_title(title)\n",
    "ax.set_legend()\n",
    "ax.plot()"
   ]
  },
  {
   "cell_type": "markdown",
   "id": "455dda28",
   "metadata": {},
   "source": [
    "=======================================================\n",
    "##### Data Matrix Preparation \n",
    "We transform the file in as sequence of examples \\\n",
    "(1) 1 2 3 4 5 6 7 8 9 10 -> lag 2 \\\n",
    "(1) 12, 23, 34, 45, 56, 67, 78, 89, 910 \\\n",
    "(2) 1 2 3 4 5 6 7 8 9 10 -> lag 3  \\\n",
    "(2) 123, 234, 345, 456, 567, 678, 789, 8910,  \\ "
   ]
  },
  {
   "cell_type": "code",
   "execution_count": null,
   "id": "9d4a3718",
   "metadata": {},
   "outputs": [],
   "source": [
    "df1"
   ]
  },
  {
   "cell_type": "code",
   "execution_count": null,
   "id": "2168c216",
   "metadata": {},
   "outputs": [],
   "source": [
    "# Data Matrix Preparation\n",
    "\n",
    "\n",
    "df1.columns\n",
    "cols = ['x', 'y', 'STATION_NAME', 'CLIMATE_IDENTIFIER', 'ID', 'LOCAL_DATE',\n",
    "       'PROVINCE_CODE', 'LOCAL_YEAR', 'LOCAL_MONTH', 'LOCAL_DAY', 'LOCAL_HOUR',\n",
    "       'TEMP', 'TEMP_FLAG', 'DEW_POINT_TEMP', 'DEW_POINT_TEMP_FLAG', 'HUMIDEX',\n",
    "       'HUMIDEX_FLAG', 'PRECIP_AMOUNT', 'PRECIP_AMOUNT_FLAG',\n",
    "       'RELATIVE_HUMIDITY', 'RELATIVE_HUMIDITY_FLAG', 'STATION_PRESSURE',\n",
    "       'STATION_PRESSURE_FLAG', 'VISIBILITY', 'VISIBILITY_FLAG', 'WINDCHILL',\n",
    "       'WINDCHILL_FLAG', 'WIND_DIRECTION', 'WIND_DIRECTION_FLAG', 'WIND_SPEED',\n",
    "       'WIND_SPEED_FLAG', 'date']\n",
    "\n",
    "drop_cols = ['x', 'y', 'STATION_NAME', 'CLIMATE_IDENTIFIER', 'ID', 'LOCAL_DATE',\n",
    "       'PROVINCE_CODE', 'LOCAL_YEAR', 'LOCAL_MONTH', 'LOCAL_DAY', 'LOCAL_HOUR']\n",
    "\n",
    "ts_multivar = df1.drop(drop_cols, axis=1)\n",
    "\n",
    "Nan_cols = ['DEW_POINT_TEMP_FLAG', 'HUMIDEX', 'HUMIDEX_FLAG', 'PRECIP_AMOUNT', 'STATION_PRESSURE_FLAG',\n",
    "           'PRECIP_AMOUNT_FLAG', 'RELATIVE_HUMIDITY_FLAG', 'VISIBILITY_FLAG', 'WINDCHILL_FLAG',\n",
    "           'WIND_DIRECTION_FLAG', 'WIND_SPEED_FLAG', 'WINDCHILL', 'TEMP_FLAG']\n",
    "ts_multivar = ts_multivar.drop(Nan_cols, axis=1)\n"
   ]
  },
  {
   "cell_type": "code",
   "execution_count": null,
   "id": "05e195f2",
   "metadata": {},
   "outputs": [],
   "source": [
    "from_date = \"2012-01-01 00:00:00\"\n",
    "to_date   = \"2012-12-31 23:00:00\"\n",
    "\n",
    "df = ts_multivar[ts_multivar['date'].dt.year == 2021 ]\n",
    "\n",
    "plt.figure(figsize=(20,10))\n",
    "plt.rc('legend', fontsize=20)\n",
    "df.plot(subplots=True, legend=True, figsize=(22,30), use_index=True, fontsize=20)\n",
    "plt.show()"
   ]
  },
  {
   "cell_type": "code",
   "execution_count": null,
   "id": "bfc7ab1c",
   "metadata": {},
   "outputs": [],
   "source": [
    "ts_multivar.isna().sum().sum()\n",
    "ts_multivar = ts_multivar.dropna()"
   ]
  },
  {
   "cell_type": "code",
   "execution_count": null,
   "id": "af9a665d",
   "metadata": {},
   "outputs": [],
   "source": [
    "ts_multivar = ts_multivar.drop('date', axis=1)\n",
    "weather_data = ts_multivar.to_numpy()\n",
    "weather_data.shape"
   ]
  },
  {
   "cell_type": "code",
   "execution_count": null,
   "id": "45071e5f",
   "metadata": {},
   "outputs": [],
   "source": [
    "#===================\n",
    "lag = 38\n",
    "ahead = 24\n",
    "#====================\n",
    "\n",
    "# Examples dataframe creation\n",
    "#print('Input dataframe structure', ts_multivar.shape)\n",
    "\n",
    "# create train, test, val (60%, 20%, 20%)\n",
    "train_split = 0.6\n",
    "test_split = 0.2\n",
    "\n",
    "datasize =  weather_data.shape[0]\n",
    "trainsize = int(datasize * train_split)\n",
    "half_test = int(datasize * test_split)\n",
    "testsize = int(half_test*2)\n",
    "\n",
    "sc=StandardScaler()\n",
    "tmpdata = sc.fit_transform(weather_data)\n",
    "Scaler = sc.fit(weather_data[:, 0].reshape(-1, 1))  # saves the scaler for the first variable for descaling\n",
    "#Scaler = sc.fit(weather_data[:, 0])  # saves the scaler for the first variable for descaling\n",
    "weather_data = tmpdata\n"
   ]
  },
  {
   "cell_type": "code",
   "execution_count": null,
   "id": "ec607642",
   "metadata": {},
   "outputs": [],
   "source": [
    "t_s_multivariate = weather_data\n",
    "\n",
    "def lag_matrix(wind_train, lag=lag, ahead=ahead):\n",
    "    wind_train = data[:trainsize, :]\n",
    "    lvect = []\n",
    "    for i in range(lag + ahead):\n",
    "       lvect.append(data[i: -lag - ahead + i, :])\n",
    "    return(np.stack(lvect, axis=1))\n",
    "\n",
    "# data = train -> test -> val\n",
    "\n",
    "data = t_s_multivariate[:trainsize, :]\n",
    "\n",
    "train = lag_matrix(data, lag, ahead)\n",
    "\n",
    "train_x = train[:, :lag]\n",
    "train_x = np.swapaxes(train_x, 1, 2)\n",
    "train_x = np.reshape(train_x, (train_x.shape[0], train_x.shape[1] * train_x.shape[2]))\n",
    "\n",
    "data  = t_s_multivariate[trainsize:trainsize + testsize, :]\n",
    "\n",
    "test  = lag_matrix(data, lag, ahead)\n",
    "half_test = int(test.shape[0] / 2)\n",
    "\n",
    "test_x = test[:half_test, :lag]\n",
    "val_x = test[half_test:, :lag]\n",
    "\n",
    "train_y = train[:, -ahead:, 0]\n",
    "test_y   = test[:half_test, -ahead:, 0]\n",
    "val_y  = test[half_test:, -ahead:, 0]\n",
    "\n",
    "\n",
    "test_x = np.swapaxes(test_x, 1, 2)\n",
    "test_x = np.reshape(test_x, (test_x.shape[0], test_x.shape[1] * test_x.shape[2]))\n",
    "val_x = np.swapaxes(val_x, 1, 2)\n",
    "val_x = np.reshape(val_x, (val_x.shape[0], val_x.shape[1] * val_x.shape[2]))\n",
    "\n",
    "\n",
    "print(\"=========== SHAPE INPUT-OUTPUT MATRIXES =====================\")\n",
    "print(\"shape x_training :\", train_x.shape, \" y_training: : \", train_y.shape)\n",
    "print(\"shape x_test     : \", test_x.shape, \" y_test      : \", test_y.shape)\n",
    "print(\"shape x_val      : \", val_x.shape,  \" y_val       : \", val_y.shape)\n",
    "print(\"=============================================================\")\n",
    "\n",
    "input_dimensions = train_x.shape[1:]\n",
    "print(input_dimensions)"
   ]
  },
  {
   "cell_type": "code",
   "execution_count": null,
   "id": "a9632b68",
   "metadata": {},
   "outputs": [],
   "source": [
    "data_input = Input(shape=input_dimensions)\n",
    "layer = Dense(1024)(data_input)\n",
    "layer = ELU(alpha=0.3)(layer)\n",
    "layer = Dropout(rate=0.3)(layer)\n",
    "layer = Dense(512, activation= 'elu')(layer)\n",
    "layer = Dropout(rate=0.3)(layer)\n",
    "layer = Dense(512, activation= 'elu')(layer)\n",
    "layer = Dropout(rate=0.3)(layer)\n",
    "output = Dense(ahead, activation='linear')(layer)\n",
    "\n",
    "MLP = Model(inputs=data_input, outputs=output, name='MLP')\n",
    "MLP.summary()\n",
    "\n",
    "opt = Adam(0.0001, clipnorm=1.)\n",
    "MLP.compile(loss='mean_squared_error',optimizer=opt, )"
   ]
  },
  {
   "cell_type": "code",
   "execution_count": null,
   "id": "475adcc5",
   "metadata": {},
   "outputs": [],
   "source": [
    "# Network training\n",
    "batch_size = 1024\n",
    "nepochs = 200\n",
    "early = EarlyStopping(monitor='val_loss', patience=10, verbose=0)\n",
    "\n",
    "MLP.fit(train_x, train_y, batch_size=batch_size, epochs=nepochs, validation_data=(test_x, test_y), \n",
    "         verbose=True, callbacks=[early])\n"
   ]
  },
  {
   "cell_type": "code",
   "execution_count": null,
   "id": "74d4c460",
   "metadata": {},
   "outputs": [],
   "source": [
    "# Perform predictions\n",
    "\n",
    "val_yp = MLP.predict(val_x, batch_size=batch_size, verbose=0)\n",
    "test_yp = MLP.predict(test_x, batch_size=batch_size, verbose=0)"
   ]
  },
  {
   "cell_type": "code",
   "execution_count": null,
   "id": "18d20877",
   "metadata": {},
   "outputs": [],
   "source": [
    "val_yp.shape"
   ]
  },
  {
   "cell_type": "code",
   "execution_count": null,
   "id": "b67caf8d",
   "metadata": {},
   "outputs": [],
   "source": [
    "# Evaluating results\n",
    "\n",
    "lresults = []\n",
    "val_y_R2 = []\n",
    "test_y_R2 = []\n",
    "acum_val, acum_test = 0,0\n",
    "for i in range (1,ahead+1):\n",
    "   v_yp = Scaler.inverse_transform(val_yp[:, i - 1].reshape(-1,1))\n",
    "   v_y = Scaler.inverse_transform(val_y[:, i - 1].reshape(-1,1))\n",
    "   t_yp = Scaler.inverse_transform(test_yp[:, i - 1].reshape(-1,1))\n",
    "   t_y = Scaler.inverse_transform(test_y[:, i - 1].reshape(-1,1))\n",
    "   val_y_R2.append(r2_score(v_yp,v_y))\n",
    "   test_y_R2.append(r2_score(t_yp, t_y))\n",
    "   \n",
    "print (\"Results === Test == Validation \")\n",
    "print('=============================')\n",
    "for i in range (0,ahead):\n",
    "   print('step', \"{:<4d}\".format(i+1), '- ', \"{:.3f}\".format(val_y_R2[i]), \"   {:.3f}\".format(test_y_R2[i]))          \n",
    "   acum_val = acum_val + val_y_R2[i]\n",
    "   acum_test = acum_test + test_y_R2[i]\n",
    "print('=============================')\n",
    "print('Summary', '  - ', \"{:.3f}\".format(acum_val), \"   {:.3f}\".format(acum_test))"
   ]
  },
  {
   "cell_type": "code",
   "execution_count": null,
   "id": "568202aa",
   "metadata": {},
   "outputs": [],
   "source": [
    "v_y.shape"
   ]
  },
  {
   "cell_type": "code",
   "execution_count": null,
   "id": "5da53981",
   "metadata": {},
   "outputs": [],
   "source": [
    "\n",
    "a = v_y[-180:,]\n",
    "a.shape"
   ]
  },
  {
   "cell_type": "code",
   "execution_count": null,
   "id": "6985019b",
   "metadata": {},
   "outputs": [],
   "source": [
    "#plot prediction and ground truth\n",
    "# Let's do it for the last 100 days\n",
    "d = [x for x in range(180)]\n",
    "\n",
    "\n",
    "df_temps = df_day_grouped[df_day_grouped['date'].dt.year == 2021 ]\n",
    "fig, ax = plt.subplots(figsize=(30,15))\n",
    "\n",
    "ax.plot(d,v_y[-180:,],color='green',linewidth=3.0, )\n",
    "ax.plot(d,v_yp[-180:,],color='red',linewidth=3.0, linestyle='--')\n",
    "ax.legend([\"real temperature\", \"predicted temperature\"])\n",
    "plt.title(\"Temperature in Standsed Airport HALIFAX in \"+str(y), size=22)\n",
    "plt.ylabel(\"TEMP (degrees)\", size=18)\n",
    "plt.xlabel(\"date\", size=18)\n",
    "plt.grid(axis='both')\n",
    "plt.xticks(fontsize=20)\n",
    "plt.yticks(fontsize=20)\n",
    "\n",
    "plt.show()"
   ]
  },
  {
   "cell_type": "code",
   "execution_count": null,
   "id": "77f75eb9",
   "metadata": {},
   "outputs": [],
   "source": []
  }
 ],
 "metadata": {
  "kernelspec": {
   "display_name": "Python 3 (ipykernel)",
   "language": "python",
   "name": "python3"
  },
  "language_info": {
   "codemirror_mode": {
    "name": "ipython",
    "version": 3
   },
   "file_extension": ".py",
   "mimetype": "text/x-python",
   "name": "python",
   "nbconvert_exporter": "python",
   "pygments_lexer": "ipython3",
   "version": "3.10.5"
  }
 },
 "nbformat": 4,
 "nbformat_minor": 5
}
